{
 "cells": [
  {
   "cell_type": "code",
   "execution_count": 8,
   "metadata": {},
   "outputs": [],
   "source": [
    "class BacktrackSolver:\n",
    "    def __init__(self, puzzle):\n",
    "        self.puzzle = puzzle\n",
    "        self.size = len(puzzle)\n",
    "        self.box_size = int(self.size ** (1/2))\n",
    "        \n",
    "    def get_row(self, row):\n",
    "        return self.puzzle[row]\n",
    "\n",
    "    def get_col(self, col):\n",
    "        return [n[col] for n in self.puzzle]\n",
    "    \n",
    "    def get_box(self, row, col):\n",
    "        box_row = self.box_size * (row // self.box_size)\n",
    "        box_col = self.box_size * (col // self.box_size)\n",
    "        box = [self.puzzle[i][box_col:(self.box_size + box_col)] for i in range(box_row, (self.box_size + box_row))]\n",
    "        return [i for j in box for i in j]\n",
    "    \n",
    "    def possibility(self, row, col):\n",
    "        all_possibilities = set(range(1, 10))\n",
    "        row_values = self.get_row(row)\n",
    "        col_values = self.get_col(col)\n",
    "        box_values = self.get_box(row, col)\n",
    "        poss = all_possibilities - set(row_values) - set(col_values) - set(box_values)\n",
    "        return list(poss)\n",
    "    \n",
    "    def find_unfilled(self):\n",
    "        return [(r, c) for r, row in enumerate(self.puzzle) for c, col in enumerate(row) if col == 0]\n",
    "    \n",
    "    def count_unfilled(self):\n",
    "        return sum([row.count(0) for row in self.puzzle]) \n",
    "    \n",
    "    def fill(self):\n",
    "        zero_locations = self.find_unfilled()\n",
    "        tries = [0] * len(zero_locations)\n",
    "        i = 0\n",
    "        while self.count_unfilled() > 0:\n",
    "            row, col = zero_locations[i]\n",
    "            self.puzzle[row][col] = 0\n",
    "            t = tries[i]\n",
    "            possibilities = self.possibility(row, col)[t:]\n",
    "            \n",
    "            if len(possibilities) == 0:\n",
    "                tries[i] = 0\n",
    "                i -= 1\n",
    "                if i < 0:\n",
    "                    i = 0\n",
    "            else:\n",
    "                self.puzzle[row][col] = possibilities[0]\n",
    "                tries[i] += 1\n",
    "                i += 1"
   ]
  },
  {
   "cell_type": "code",
   "execution_count": 16,
   "metadata": {},
   "outputs": [],
   "source": [
    "def backsolve(puzzle):\n",
    "    grid = puzzle\n",
    "    sudoku = BacktrackSolver(grid).fill()\n",
    "    return sudoku"
   ]
  },
  {
   "cell_type": "code",
   "execution_count": 17,
   "metadata": {},
   "outputs": [
    {
     "data": {
      "text/plain": [
       "[[4, 9, 8, 2, 1, 3, 7, 5, 6],\n",
       " [5, 3, 7, 8, 6, 9, 4, 2, 1],\n",
       " [6, 2, 1, 5, 7, 4, 8, 3, 9],\n",
       " [9, 8, 5, 6, 2, 1, 3, 7, 4],\n",
       " [7, 1, 6, 3, 4, 5, 9, 8, 2],\n",
       " [3, 4, 2, 9, 8, 7, 1, 6, 5],\n",
       " [2, 6, 4, 1, 3, 8, 5, 9, 7],\n",
       " [1, 5, 3, 7, 9, 6, 2, 4, 8],\n",
       " [8, 7, 9, 4, 5, 2, 6, 1, 3]]"
      ]
     },
     "execution_count": 17,
     "metadata": {},
     "output_type": "execute_result"
    }
   ],
   "source": [
    "sudoku1 = [[4, 9, 0, 2, 0, 3, 0, 0, 6],\n",
    "         [0, 0, 7, 8, 0, 0, 0, 0, 0],\n",
    "         [0, 0, 0, 0, 7, 4, 8, 3, 0],\n",
    "         [0, 0, 0, 0, 2, 1, 0, 0, 4],\n",
    "         [7, 1, 6, 0, 0, 0, 9, 8, 2],\n",
    "         [3, 0, 0, 9, 8, 0, 0, 0, 0],\n",
    "         [0, 6, 4, 1, 3, 0, 0, 0, 0],\n",
    "         [0, 0, 0, 0, 0, 6, 2, 0, 0],\n",
    "         [8, 0, 0, 4, 0, 2, 0, 1, 3]]\n",
    "\n",
    "backsolve(sudoku1)\n",
    "sudoku1"
   ]
  },
  {
   "cell_type": "code",
   "execution_count": 11,
   "metadata": {},
   "outputs": [
    {
     "data": {
      "text/plain": [
       "[[2, 9, 6, 8, 1, 5, 7, 4, 3],\n",
       " [7, 1, 4, 6, 2, 3, 9, 8, 5],\n",
       " [3, 5, 8, 9, 7, 4, 6, 1, 2],\n",
       " [8, 3, 9, 1, 5, 2, 4, 6, 7],\n",
       " [1, 2, 7, 3, 4, 6, 8, 5, 9],\n",
       " [6, 4, 5, 7, 8, 9, 2, 3, 1],\n",
       " [4, 6, 3, 2, 9, 1, 5, 7, 8],\n",
       " [9, 8, 1, 5, 6, 7, 3, 2, 4],\n",
       " [5, 7, 2, 4, 3, 8, 1, 9, 6]]"
      ]
     },
     "execution_count": 11,
     "metadata": {},
     "output_type": "execute_result"
    }
   ],
   "source": [
    "sudoku2 = [[2, 0, 0, 0, 0, 0, 0, 4, 0],\n",
    "         [7, 1, 0, 0, 0, 3, 0, 0, 0],\n",
    "         [0, 5, 8, 9, 0, 0, 0, 1, 0],\n",
    "         [0, 0, 0, 0, 5, 0, 0, 0, 7],\n",
    "         [0, 0, 7, 0, 4, 0, 8, 0, 0],\n",
    "         [6, 0, 0, 0, 8, 0, 0, 0, 0],\n",
    "         [0, 6, 0, 0, 0, 1, 5, 7, 0],\n",
    "         [0, 0, 0, 5, 0, 0, 0, 2, 4],\n",
    "         [0, 7, 0, 0, 0, 0, 0, 0, 6]]\n",
    "\n",
    "backsolve(sudoku2)\n",
    "sudoku2"
   ]
  },
  {
   "cell_type": "code",
   "execution_count": 12,
   "metadata": {},
   "outputs": [
    {
     "data": {
      "text/plain": [
       "[[9, 7, 5, 2, 1, 4, 8, 6, 3],\n",
       " [2, 1, 6, 8, 3, 7, 9, 5, 4],\n",
       " [3, 8, 4, 6, 5, 9, 1, 7, 2],\n",
       " [4, 5, 2, 7, 6, 1, 3, 9, 8],\n",
       " [1, 3, 9, 5, 4, 8, 6, 2, 7],\n",
       " [7, 6, 8, 3, 9, 2, 4, 1, 5],\n",
       " [5, 4, 1, 9, 2, 3, 7, 8, 6],\n",
       " [8, 2, 3, 1, 7, 6, 5, 4, 9],\n",
       " [6, 9, 7, 4, 8, 5, 2, 3, 1]]"
      ]
     },
     "execution_count": 12,
     "metadata": {},
     "output_type": "execute_result"
    }
   ],
   "source": [
    "sudoku3 = [[9, 0, 0, 0, 1, 4, 0, 0, 0],\n",
    "         [0, 0, 0, 0, 3, 0, 0, 5, 0],\n",
    "         [0, 0, 4, 6, 0, 0, 0, 0, 2],\n",
    "         [4, 0, 2, 0, 0, 0, 3, 0, 0],\n",
    "         [1, 0, 9, 0, 0, 0, 6, 0, 7],\n",
    "         [0, 0, 8, 0, 0, 0, 4, 0, 5],\n",
    "         [5, 0, 0, 0, 0, 3, 7, 0, 0],\n",
    "         [0, 2, 0, 0, 7, 0, 0, 0, 0],\n",
    "         [0, 0, 0, 4, 8, 0, 0, 0, 1]]\n",
    "\n",
    "backsolve(sudoku3)\n",
    "sudoku3"
   ]
  },
  {
   "cell_type": "code",
   "execution_count": 18,
   "metadata": {},
   "outputs": [
    {
     "data": {
      "text/plain": [
       "[[5, 7, 1, 6, 8, 9, 4, 2, 3],\n",
       " [6, 3, 2, 5, 4, 7, 8, 9, 1],\n",
       " [9, 8, 4, 1, 3, 2, 5, 6, 7],\n",
       " [1, 5, 7, 9, 2, 6, 3, 4, 8],\n",
       " [2, 9, 3, 4, 1, 8, 7, 5, 6],\n",
       " [4, 6, 8, 7, 5, 3, 9, 1, 2],\n",
       " [8, 1, 5, 2, 7, 4, 6, 3, 9],\n",
       " [7, 4, 9, 3, 6, 1, 2, 8, 5],\n",
       " [3, 2, 6, 8, 9, 5, 1, 7, 4]]"
      ]
     },
     "execution_count": 18,
     "metadata": {},
     "output_type": "execute_result"
    }
   ],
   "source": [
    "sudoku4 = [[0, 7, 0, 6, 8, 0, 0, 0, 0],\n",
    "         [6, 0, 2, 0, 0, 0, 0, 0, 0],\n",
    "         [9, 0, 0, 1, 3, 0, 0, 0, 7],\n",
    "         [0, 5, 0, 0, 0, 0, 0, 0, 8],\n",
    "         [0, 0, 3, 0, 1, 0, 7, 0, 0],\n",
    "         [4, 0, 0, 0, 0, 0, 0, 1, 0],\n",
    "         [8, 0, 0, 0, 7, 4, 0, 0, 9],\n",
    "         [0, 0, 0, 0, 0, 0, 2, 0, 5],\n",
    "         [0, 0, 0, 0, 9, 5, 0, 7, 4]]\n",
    "\n",
    "backsolve(sudoku4)\n",
    "sudoku4"
   ]
  }
 ],
 "metadata": {
  "kernelspec": {
   "display_name": "Python 3",
   "language": "python",
   "name": "python3"
  },
  "language_info": {
   "codemirror_mode": {
    "name": "ipython",
    "version": 3
   },
   "file_extension": ".py",
   "mimetype": "text/x-python",
   "name": "python",
   "nbconvert_exporter": "python",
   "pygments_lexer": "ipython3",
   "version": "3.7.6"
  }
 },
 "nbformat": 4,
 "nbformat_minor": 4
}
